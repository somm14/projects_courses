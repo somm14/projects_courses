{
 "cells": [
  {
   "cell_type": "markdown",
   "metadata": {},
   "source": [
    "# PROYECTO DE MACHINE LEARNING\n",
    "___________________\n",
    "\n",
    "## Más allá de los Estudios Básicos: Predicción del **Rendimiento estudiantil** sobre factores socioeconómicos\n"
   ]
  },
  {
   "cell_type": "markdown",
   "metadata": {},
   "source": [
    "### **1. Problema de negocio**\n",
    "\n"
   ]
  },
  {
   "cell_type": "markdown",
   "metadata": {},
   "source": [
    "Datos recabados\n",
    "\n",
    "https://github.com/carmelh/SQL_projects/tree/main/student_data_ana --> Informacion de las variables numericas categoricas\n",
    "\n",
    "https://www.kaggle.com/datasets/thedevastator/higher-education-predictors-of-student-retention --> Dataset"
   ]
  },
  {
   "cell_type": "markdown",
   "metadata": {},
   "source": []
  }
 ],
 "metadata": {
  "language_info": {
   "name": "python"
  }
 },
 "nbformat": 4,
 "nbformat_minor": 2
}
