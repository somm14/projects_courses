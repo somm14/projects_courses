{
 "cells": [
  {
   "cell_type": "markdown",
   "metadata": {},
   "source": [
    "<div style=\"text-align: center;\">\n",
    "<img src=\"https://www.samsonwebdesign.co.uk/wp-content/uploads/importance-of-backlinks.jpg\" alt=\"links\" width=\"700\"/>\n",
    "</div>"
   ]
  },
  {
   "cell_type": "markdown",
   "metadata": {},
   "source": [
    "### DATOS NECESARIOS\n",
    "\n",
    "A raíz de esta hipótesis, analizaré los datos sobre la educación que es obligatoria (Primaria y ESO).\n",
    "\n",
    "- [Matriculados en primaria](https://estadisticas.educa.madrid.org/Report/ReportTemplate?ReportName=03_Alumnos_MatricPrimariaCursoSexo&ReportDescription=Alumnos%20matriculados%20en%20Educaci%C3%B3n%20Primaria%20por%20curso%20y%20sexo&Width=100&Height=650) teniendo la opción de elegir los años escolares y el distrito.\n",
    "- [Matriculados en la ESO](https://estadisticas.educa.madrid.org/Report/ReportTemplate?ReportName=04_Alumnos_MatricSecundariaCursoSexo&ReportDescription=Alumnos%20matriculados%20en%20Educaci%C3%B3n%20Secundaria%20Obligatoria%20%28ESO%29%20por%20curso%20y%20sexo&Width=100&Height=650) teniendo las mismas opciones que el anterior.\n",
    "- Es necesario saber la [tasa de idoneidad](https://estadisticas.educa.madrid.org/Report/ReportTemplate?ReportName=27_TasasIdoneidad_EducObligatoriaEdadSexo&ReportDescription=Tasas%20de%20idoneidad%20en%20Educaci%C3%B3n%20Obligatoria%20por%20edad%20y%20sexo&Width=100&Height=650) en la educación obligatoria, es decir, que porcentaje de alumnos repiten sus estudios dependiendo del curso.\n",
    "- Para poder analizar por completo mi hipótesis, necesito los [datos socioeconómicos por distritos](https://datos.madrid.es/sites/v/index.jsp?vgnextoid=71359583a773a510VgnVCM2000001f4a900aRCRD&vgnextchannel=374512b9ace9f310VgnVCM100000171f5a0aRCRD)."
   ]
  }
 ],
 "metadata": {
  "kernelspec": {
   "display_name": "Python 3",
   "language": "python",
   "name": "python3"
  },
  "language_info": {
   "codemirror_mode": {
    "name": "ipython",
    "version": 3
   },
   "file_extension": ".py",
   "mimetype": "text/x-python",
   "name": "python",
   "nbconvert_exporter": "python",
   "pygments_lexer": "ipython3",
   "version": "3.12.3"
  }
 },
 "nbformat": 4,
 "nbformat_minor": 2
}
